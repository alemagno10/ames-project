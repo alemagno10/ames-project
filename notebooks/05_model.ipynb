{
 "cells": [
  {
   "cell_type": "markdown",
   "metadata": {},
   "source": [
    "# Modelling"
   ]
  },
  {
   "cell_type": "markdown",
   "metadata": {},
   "source": [
    "## Importando bibliotecas"
   ]
  },
  {
   "cell_type": "code",
   "execution_count": 11,
   "metadata": {},
   "outputs": [],
   "source": [
    "import pathlib\n",
    "import pickle\n",
    "import pandas as pd\n",
    "import seaborn as sns\n",
    "import matplotlib.pyplot as plt\n",
    "import numpy as np\n",
    "from sklearn.model_selection import train_test_split"
   ]
  },
  {
   "cell_type": "markdown",
   "metadata": {},
   "source": [
    "## Importando os dados do notebook limpo"
   ]
  },
  {
   "cell_type": "code",
   "execution_count": 12,
   "metadata": {},
   "outputs": [
    {
     "name": "stdout",
     "output_type": "stream",
     "text": [
      "c:\\Users\\alema\\OneDrive\\Documentos\\insper\\4sem\\MachineLearing\\ames-project\\data\n"
     ]
    }
   ],
   "source": [
    "DATA_DIR = pathlib.Path.cwd().parent / 'data'\n",
    "print(DATA_DIR)"
   ]
  },
  {
   "cell_type": "code",
   "execution_count": 13,
   "metadata": {},
   "outputs": [],
   "source": [
    "clean_data_path = DATA_DIR / 'processed' / 'feature_engineering.pkl'"
   ]
  },
  {
   "cell_type": "code",
   "execution_count": 14,
   "metadata": {},
   "outputs": [
    {
     "data": {
      "text/html": [
       "<div>\n",
       "<style scoped>\n",
       "    .dataframe tbody tr th:only-of-type {\n",
       "        vertical-align: middle;\n",
       "    }\n",
       "\n",
       "    .dataframe tbody tr th {\n",
       "        vertical-align: top;\n",
       "    }\n",
       "\n",
       "    .dataframe thead th {\n",
       "        text-align: right;\n",
       "    }\n",
       "</style>\n",
       "<table border=\"1\" class=\"dataframe\">\n",
       "  <thead>\n",
       "    <tr style=\"text-align: right;\">\n",
       "      <th></th>\n",
       "      <th>MS.SubClass_160</th>\n",
       "      <th>MS.SubClass_190</th>\n",
       "      <th>MS.SubClass_20</th>\n",
       "      <th>MS.SubClass_30</th>\n",
       "      <th>MS.SubClass_50</th>\n",
       "      <th>MS.SubClass_60</th>\n",
       "      <th>MS.SubClass_70</th>\n",
       "      <th>MS.SubClass_80</th>\n",
       "      <th>MS.SubClass_85</th>\n",
       "      <th>MS.SubClass_90</th>\n",
       "      <th>...</th>\n",
       "      <th>HasShed</th>\n",
       "      <th>HasAlley</th>\n",
       "      <th>Garage.Age</th>\n",
       "      <th>Remod.Age</th>\n",
       "      <th>SqFtPerRoom</th>\n",
       "      <th>Total_Home_Quality</th>\n",
       "      <th>Total_Bathrooms</th>\n",
       "      <th>GrAreaPerCar</th>\n",
       "      <th>TotalPorchSF</th>\n",
       "      <th>AvgQualCond</th>\n",
       "    </tr>\n",
       "  </thead>\n",
       "  <tbody>\n",
       "    <tr>\n",
       "      <th>0</th>\n",
       "      <td>0.0</td>\n",
       "      <td>0.0</td>\n",
       "      <td>1.0</td>\n",
       "      <td>0.0</td>\n",
       "      <td>0.0</td>\n",
       "      <td>0.0</td>\n",
       "      <td>0.0</td>\n",
       "      <td>0.0</td>\n",
       "      <td>0.0</td>\n",
       "      <td>0.0</td>\n",
       "      <td>...</td>\n",
       "      <td>False</td>\n",
       "      <td>False</td>\n",
       "      <td>3.931826</td>\n",
       "      <td>50.0</td>\n",
       "      <td>1.964901</td>\n",
       "      <td>9.0</td>\n",
       "      <td>1.693147</td>\n",
       "      <td>3.706382</td>\n",
       "      <td>4.143135</td>\n",
       "      <td>4.5</td>\n",
       "    </tr>\n",
       "    <tr>\n",
       "      <th>1</th>\n",
       "      <td>0.0</td>\n",
       "      <td>0.0</td>\n",
       "      <td>1.0</td>\n",
       "      <td>0.0</td>\n",
       "      <td>0.0</td>\n",
       "      <td>0.0</td>\n",
       "      <td>0.0</td>\n",
       "      <td>0.0</td>\n",
       "      <td>0.0</td>\n",
       "      <td>0.0</td>\n",
       "      <td>...</td>\n",
       "      <td>False</td>\n",
       "      <td>False</td>\n",
       "      <td>3.912023</td>\n",
       "      <td>49.0</td>\n",
       "      <td>1.951001</td>\n",
       "      <td>9.0</td>\n",
       "      <td>1.0</td>\n",
       "      <td>6.799056</td>\n",
       "      <td>4.795791</td>\n",
       "      <td>4.5</td>\n",
       "    </tr>\n",
       "    <tr>\n",
       "      <th>2</th>\n",
       "      <td>0.0</td>\n",
       "      <td>0.0</td>\n",
       "      <td>1.0</td>\n",
       "      <td>0.0</td>\n",
       "      <td>0.0</td>\n",
       "      <td>0.0</td>\n",
       "      <td>0.0</td>\n",
       "      <td>0.0</td>\n",
       "      <td>0.0</td>\n",
       "      <td>0.0</td>\n",
       "      <td>...</td>\n",
       "      <td>False</td>\n",
       "      <td>False</td>\n",
       "      <td>3.970292</td>\n",
       "      <td>52.0</td>\n",
       "      <td>1.66034</td>\n",
       "      <td>10.0</td>\n",
       "      <td>1.346574</td>\n",
       "      <td>7.192934</td>\n",
       "      <td>3.610918</td>\n",
       "      <td>5.0</td>\n",
       "    </tr>\n",
       "    <tr>\n",
       "      <th>3</th>\n",
       "      <td>0.0</td>\n",
       "      <td>0.0</td>\n",
       "      <td>1.0</td>\n",
       "      <td>0.0</td>\n",
       "      <td>0.0</td>\n",
       "      <td>0.0</td>\n",
       "      <td>0.0</td>\n",
       "      <td>0.0</td>\n",
       "      <td>0.0</td>\n",
       "      <td>0.0</td>\n",
       "      <td>...</td>\n",
       "      <td>False</td>\n",
       "      <td>False</td>\n",
       "      <td>3.7612</td>\n",
       "      <td>42.0</td>\n",
       "      <td>1.370984</td>\n",
       "      <td>10.0</td>\n",
       "      <td>3.039721</td>\n",
       "      <td>3.827459</td>\n",
       "      <td>0.0</td>\n",
       "      <td>5.0</td>\n",
       "    </tr>\n",
       "    <tr>\n",
       "      <th>4</th>\n",
       "      <td>0.0</td>\n",
       "      <td>0.0</td>\n",
       "      <td>0.0</td>\n",
       "      <td>0.0</td>\n",
       "      <td>0.0</td>\n",
       "      <td>1.0</td>\n",
       "      <td>0.0</td>\n",
       "      <td>0.0</td>\n",
       "      <td>0.0</td>\n",
       "      <td>0.0</td>\n",
       "      <td>...</td>\n",
       "      <td>False</td>\n",
       "      <td>False</td>\n",
       "      <td>2.639057</td>\n",
       "      <td>12.0</td>\n",
       "      <td>1.387106</td>\n",
       "      <td>8.0</td>\n",
       "      <td>2.346574</td>\n",
       "      <td>3.698168</td>\n",
       "      <td>3.555348</td>\n",
       "      <td>4.0</td>\n",
       "    </tr>\n",
       "  </tbody>\n",
       "</table>\n",
       "<p>5 rows × 158 columns</p>\n",
       "</div>"
      ],
      "text/plain": [
       "  MS.SubClass_160 MS.SubClass_190 MS.SubClass_20 MS.SubClass_30  \\\n",
       "0             0.0             0.0            1.0            0.0   \n",
       "1             0.0             0.0            1.0            0.0   \n",
       "2             0.0             0.0            1.0            0.0   \n",
       "3             0.0             0.0            1.0            0.0   \n",
       "4             0.0             0.0            0.0            0.0   \n",
       "\n",
       "  MS.SubClass_50 MS.SubClass_60 MS.SubClass_70 MS.SubClass_80 MS.SubClass_85  \\\n",
       "0            0.0            0.0            0.0            0.0            0.0   \n",
       "1            0.0            0.0            0.0            0.0            0.0   \n",
       "2            0.0            0.0            0.0            0.0            0.0   \n",
       "3            0.0            0.0            0.0            0.0            0.0   \n",
       "4            0.0            1.0            0.0            0.0            0.0   \n",
       "\n",
       "  MS.SubClass_90  ... HasShed HasAlley Garage.Age Remod.Age SqFtPerRoom  \\\n",
       "0            0.0  ...   False    False   3.931826      50.0    1.964901   \n",
       "1            0.0  ...   False    False   3.912023      49.0    1.951001   \n",
       "2            0.0  ...   False    False   3.970292      52.0     1.66034   \n",
       "3            0.0  ...   False    False     3.7612      42.0    1.370984   \n",
       "4            0.0  ...   False    False   2.639057      12.0    1.387106   \n",
       "\n",
       "  Total_Home_Quality Total_Bathrooms GrAreaPerCar TotalPorchSF AvgQualCond  \n",
       "0                9.0        1.693147     3.706382     4.143135         4.5  \n",
       "1                9.0             1.0     6.799056     4.795791         4.5  \n",
       "2               10.0        1.346574     7.192934     3.610918         5.0  \n",
       "3               10.0        3.039721     3.827459          0.0         5.0  \n",
       "4                8.0        2.346574     3.698168     3.555348         4.0  \n",
       "\n",
       "[5 rows x 158 columns]"
      ]
     },
     "execution_count": 14,
     "metadata": {},
     "output_type": "execute_result"
    }
   ],
   "source": [
    "df = pd.read_pickle(clean_data_path)\n",
    "df.head()"
   ]
  },
  {
   "cell_type": "markdown",
   "metadata": {},
   "source": [
    "## Separando os dados de treino e teste"
   ]
  },
  {
   "cell_type": "code",
   "execution_count": 15,
   "metadata": {},
   "outputs": [],
   "source": [
    "X = df.drop('SalePrice', axis=1)\n",
    "y = df['SalePrice']"
   ]
  },
  {
   "cell_type": "markdown",
   "metadata": {},
   "source": [
    "## Encontrando o melhor modelo"
   ]
  },
  {
   "cell_type": "code",
   "execution_count": 29,
   "metadata": {},
   "outputs": [],
   "source": [
    "from sklearn.model_selection import train_test_split, cross_val_score\n",
    "from sklearn.linear_model import LinearRegression, Lasso, Ridge\n",
    "from sklearn.ensemble import RandomForestRegressor\n",
    "from sklearn.tree import DecisionTreeRegressor\n",
    "from sklearn.metrics import mean_squared_error\n",
    "from sklearn.model_selection import GridSearchCV\n",
    "\n",
    "X_train, X_temp, y_train, y_temp = train_test_split(X, y, test_size=0.3, random_state=42)\n",
    "X_val, X_test, y_val, y_test = train_test_split(X_temp, y_temp, test_size=0.5, random_state=42)\n",
    "\n",
    "regressors = [\n",
    "    (\"Linear\", LinearRegression()),\n",
    "    (\"Lasso\", Lasso()),\n",
    "    (\"Ridge\", Ridge()),\n",
    "    (\"DecisionTree\", DecisionTreeRegressor()),\n",
    "    (\"RandomForest\", RandomForestRegressor())\n",
    "]\n",
    "\n",
    "param_grid = {\n",
    "    \"Lasso\": {\"alpha\": [0.01, 0.1, 1, 10]},\n",
    "    \"Ridge\": {'alpha': [0.001, 0.01, 0.1, 1, 10, 100]},\n",
    "    \"DecisionTree\": {\"max_depth\": [None, 30, 40, 50], \"criterion\": [\"squared_error\"]},\n",
    "    \"RandomForest\": {\"n_estimators\": [100, 150, 200], \"max_depth\": [None, 10, 20, 30, 40]}\n",
    "}"
   ]
  },
  {
   "cell_type": "code",
   "execution_count": 37,
   "metadata": {},
   "outputs": [],
   "source": [
    "def display_scores(scores, name):\n",
    "    print(f\"{name}: \")\n",
    "    print(\"Scores:\", scores)\n",
    "    print(\"Mean:\", scores.mean())\n",
    "    print(f\"Standard deviation: {scores.std()}\\n\")\n",
    "\n",
    "def cross_val_evaluate(model, name):\n",
    "    scores = cross_val_score(model, X_train, y_train, scoring=\"neg_mean_squared_error\", cv=10)\n",
    "    rmse_scores = np.sqrt(-scores)\n",
    "    display_scores(rmse_scores, name)\n",
    "\n",
    "def RMSE_percentage(rmse, y):\n",
    "    return (rmse / (np.max(y) - np.min(y))) * 100"
   ]
  },
  {
   "cell_type": "code",
   "execution_count": 36,
   "metadata": {},
   "outputs": [
    {
     "name": "stdout",
     "output_type": "stream",
     "text": [
      "Linear: \n",
      "Scores: [0.05782382 0.04634177 0.05400217 0.05939831 0.04664693 0.04419352\n",
      " 0.04830075 0.04476289 0.04673915 0.05560846]\n",
      "Mean: 0.050381778297261724\n",
      "Standard deviation: 0.00542995259423805\n",
      "\n",
      "Lasso: \n",
      "Scores: [0.11899857 0.12070626 0.13442687 0.12424038 0.12278046 0.11992811\n",
      " 0.11785743 0.12176185 0.11498659 0.12938493]\n",
      "Mean: 0.1225071450059115\n",
      "Standard deviation: 0.005416652475649625\n",
      "\n",
      "Ridge: \n",
      "Scores: [0.0567517  0.04591113 0.05346192 0.05969458 0.04626652 0.04386995\n",
      " 0.04812431 0.04426176 0.04646448 0.05533666]\n",
      "Mean: 0.05001430260422938\n",
      "Standard deviation: 0.005451732057594576\n",
      "\n",
      "DecisionTree: \n",
      "Scores: [0.07437792 0.08743151 0.09152887 0.09632071 0.08429005 0.08875562\n",
      " 0.07885338 0.08529271 0.08008774 0.09450021]\n",
      "Mean: 0.08614387295476236\n",
      "Standard deviation: 0.006658081771234486\n",
      "\n",
      "RandomForest: \n",
      "Scores: [0.05004846 0.05393463 0.06012618 0.06649246 0.05776233 0.055033\n",
      " 0.05814668 0.05780704 0.05717196 0.06406199]\n",
      "Mean: 0.05805847242181054\n",
      "Standard deviation: 0.0045023810019272645\n",
      "\n"
     ]
    }
   ],
   "source": [
    "for name, model in regressors:\n",
    "    cross_val_evaluate(model, name)"
   ]
  },
  {
   "cell_type": "code",
   "execution_count": 40,
   "metadata": {},
   "outputs": [
    {
     "data": {
      "text/html": [
       "<style>#sk-container-id-2 {color: black;}#sk-container-id-2 pre{padding: 0;}#sk-container-id-2 div.sk-toggleable {background-color: white;}#sk-container-id-2 label.sk-toggleable__label {cursor: pointer;display: block;width: 100%;margin-bottom: 0;padding: 0.3em;box-sizing: border-box;text-align: center;}#sk-container-id-2 label.sk-toggleable__label-arrow:before {content: \"▸\";float: left;margin-right: 0.25em;color: #696969;}#sk-container-id-2 label.sk-toggleable__label-arrow:hover:before {color: black;}#sk-container-id-2 div.sk-estimator:hover label.sk-toggleable__label-arrow:before {color: black;}#sk-container-id-2 div.sk-toggleable__content {max-height: 0;max-width: 0;overflow: hidden;text-align: left;background-color: #f0f8ff;}#sk-container-id-2 div.sk-toggleable__content pre {margin: 0.2em;color: black;border-radius: 0.25em;background-color: #f0f8ff;}#sk-container-id-2 input.sk-toggleable__control:checked~div.sk-toggleable__content {max-height: 200px;max-width: 100%;overflow: auto;}#sk-container-id-2 input.sk-toggleable__control:checked~label.sk-toggleable__label-arrow:before {content: \"▾\";}#sk-container-id-2 div.sk-estimator input.sk-toggleable__control:checked~label.sk-toggleable__label {background-color: #d4ebff;}#sk-container-id-2 div.sk-label input.sk-toggleable__control:checked~label.sk-toggleable__label {background-color: #d4ebff;}#sk-container-id-2 input.sk-hidden--visually {border: 0;clip: rect(1px 1px 1px 1px);clip: rect(1px, 1px, 1px, 1px);height: 1px;margin: -1px;overflow: hidden;padding: 0;position: absolute;width: 1px;}#sk-container-id-2 div.sk-estimator {font-family: monospace;background-color: #f0f8ff;border: 1px dotted black;border-radius: 0.25em;box-sizing: border-box;margin-bottom: 0.5em;}#sk-container-id-2 div.sk-estimator:hover {background-color: #d4ebff;}#sk-container-id-2 div.sk-parallel-item::after {content: \"\";width: 100%;border-bottom: 1px solid gray;flex-grow: 1;}#sk-container-id-2 div.sk-label:hover label.sk-toggleable__label {background-color: #d4ebff;}#sk-container-id-2 div.sk-serial::before {content: \"\";position: absolute;border-left: 1px solid gray;box-sizing: border-box;top: 0;bottom: 0;left: 50%;z-index: 0;}#sk-container-id-2 div.sk-serial {display: flex;flex-direction: column;align-items: center;background-color: white;padding-right: 0.2em;padding-left: 0.2em;position: relative;}#sk-container-id-2 div.sk-item {position: relative;z-index: 1;}#sk-container-id-2 div.sk-parallel {display: flex;align-items: stretch;justify-content: center;background-color: white;position: relative;}#sk-container-id-2 div.sk-item::before, #sk-container-id-2 div.sk-parallel-item::before {content: \"\";position: absolute;border-left: 1px solid gray;box-sizing: border-box;top: 0;bottom: 0;left: 50%;z-index: -1;}#sk-container-id-2 div.sk-parallel-item {display: flex;flex-direction: column;z-index: 1;position: relative;background-color: white;}#sk-container-id-2 div.sk-parallel-item:first-child::after {align-self: flex-end;width: 50%;}#sk-container-id-2 div.sk-parallel-item:last-child::after {align-self: flex-start;width: 50%;}#sk-container-id-2 div.sk-parallel-item:only-child::after {width: 0;}#sk-container-id-2 div.sk-dashed-wrapped {border: 1px dashed gray;margin: 0 0.4em 0.5em 0.4em;box-sizing: border-box;padding-bottom: 0.4em;background-color: white;}#sk-container-id-2 div.sk-label label {font-family: monospace;font-weight: bold;display: inline-block;line-height: 1.2em;}#sk-container-id-2 div.sk-label-container {text-align: center;}#sk-container-id-2 div.sk-container {/* jupyter's `normalize.less` sets `[hidden] { display: none; }` but bootstrap.min.css set `[hidden] { display: none !important; }` so we also need the `!important` here to be able to override the default hidden behavior on the sphinx rendered scikit-learn.org. See: https://github.com/scikit-learn/scikit-learn/issues/21755 */display: inline-block !important;position: relative;}#sk-container-id-2 div.sk-text-repr-fallback {display: none;}</style><div id=\"sk-container-id-2\" class=\"sk-top-container\"><div class=\"sk-text-repr-fallback\"><pre>Ridge(alpha=10)</pre><b>In a Jupyter environment, please rerun this cell to show the HTML representation or trust the notebook. <br />On GitHub, the HTML representation is unable to render, please try loading this page with nbviewer.org.</b></div><div class=\"sk-container\" hidden><div class=\"sk-item\"><div class=\"sk-estimator sk-toggleable\"><input class=\"sk-toggleable__control sk-hidden--visually\" id=\"sk-estimator-id-4\" type=\"checkbox\" checked><label for=\"sk-estimator-id-4\" class=\"sk-toggleable__label sk-toggleable__label-arrow\">Ridge</label><div class=\"sk-toggleable__content\"><pre>Ridge(alpha=10)</pre></div></div></div></div></div>"
      ],
      "text/plain": [
       "Ridge(alpha=10)"
      ]
     },
     "execution_count": 40,
     "metadata": {},
     "output_type": "execute_result"
    }
   ],
   "source": [
    "grid_search = GridSearchCV(Ridge(), param_grid[\"Ridge\"], cv=5, scoring='neg_mean_squared_error', n_jobs=-1)\n",
    "grid_search.fit(X_train, y_train)\n",
    "grid_search.best_estimator_"
   ]
  },
  {
   "cell_type": "code",
   "execution_count": 41,
   "metadata": {},
   "outputs": [
    {
     "name": "stdout",
     "output_type": "stream",
     "text": [
      "RMSE = 0.053280326844140316\n",
      "RMSE em porcentagem: 4.52%\n"
     ]
    }
   ],
   "source": [
    "final_model = grid_search.best_estimator_\n",
    "final_predictions = final_model.predict(X_test)\n",
    "\n",
    "final_mse = mean_squared_error(y_test, final_predictions)\n",
    "final_rmse = np.sqrt(final_mse)\n",
    "\n",
    "print(f\"RMSE: {final_rmse}\")\n",
    "print(f\"RMSE em porcentagem: {RMSE_percentage(final_rmse, y_test):.2f}%\")"
   ]
  },
  {
   "cell_type": "code",
   "execution_count": 28,
   "metadata": {},
   "outputs": [
    {
     "name": "stdout",
     "output_type": "stream",
     "text": [
      "Regressor: Linear\n",
      "Melhores Hiperparâmetros: N/A\n",
      "MSE no Conjunto de Validação, Treinamento e Teste: [0.002979053430892817, 0.002022085791427744, 0.0028236648698078785]\n",
      "MSE no Conjunto de Validação, Treinamento e Teste em Porcentagem: [0.00010354721692362936, 7.02845252494871e-05, 9.814615466833086e-05]\n",
      "\n",
      "\n",
      "Regressor: Lasso\n",
      "Melhores Hiperparâmetros: {'alpha': 0.01}\n",
      "MSE no Conjunto de Validação, Treinamento e Teste: [0.0066403367377674905, 0.005383126480520477, 0.005989073766287816]\n",
      "MSE no Conjunto de Validação, Treinamento e Teste em Porcentagem: [0.00023080767249800105, 0.00018710901913522685, 0.0002081707947962397]\n",
      "\n",
      "\n",
      "Regressor: Ridge\n",
      "Melhores Hiperparâmetros: {'alpha': 10}\n",
      "MSE no Conjunto de Validação, Treinamento e Teste: [0.0030682181640849546, 0.0021165685302321283, 0.0028387932286184194]\n",
      "MSE no Conjunto de Validação, Treinamento e Teste em Porcentagem: [0.00010664644296437102, 7.356859681029296e-05, 9.867199265270835e-05]\n",
      "\n",
      "\n",
      "Regressor: DecisionTree\n",
      "Melhores Hiperparâmetros: {'criterion': 'squared_error', 'max_depth': 50}\n",
      "MSE no Conjunto de Validação, Treinamento e Teste: [0.007876775324024424, 0.0, 0.00811254109083214]\n",
      "MSE no Conjunto de Validação, Treinamento e Teste em Porcentagem: [0.00027378433521113745, 0.0, 0.00028197918285826]\n",
      "\n",
      "\n",
      "Regressor: RandomForest\n",
      "Melhores Hiperparâmetros: {'max_depth': 20, 'n_estimators': 200}\n",
      "MSE no Conjunto de Validação, Treinamento e Teste: [0.004047813137252886, 0.0004532828296972946, 0.0037615849605673523]\n",
      "MSE no Conjunto de Validação, Treinamento e Teste em Porcentagem: [0.0001406956252086509, 1.5755399016242425e-05, 0.00013074678347470812]\n",
      "\n",
      "\n"
     ]
    }
   ],
   "source": [
    "# # Loop para treinar e tunar regressores\n",
    "# for name, regressor in regressors:\n",
    "#     if name in param_grid:\n",
    "#         grid_search = GridSearchCV(regressor, param_grid[name], cv=5, scoring='neg_mean_squared_error', n_jobs=-1)\n",
    "#         grid_search.fit(X_train, y_train)\n",
    "#         best_model = grid_search.best_estimator_\n",
    "#     else:\n",
    "#         best_model = regressor\n",
    "#         best_model.fit(X_train, y_train)\n",
    "    \n",
    "#     # Avaliação no conjunto de validação\n",
    "#     y_pred_val = best_model.predict(X_val)\n",
    "#     mse = mean_squared_error(y_val, y_pred_val)\n",
    "    \n",
    "#     print(f\"Regressor: {name}\")\n",
    "#     print(f\"Melhores Hiperparâmetros: {grid_search.best_params_ if name in param_grid else 'N/A'}\")\n",
    "\n",
    "#     # Testar overfitting nos melhores modelos\n",
    "#     y_pred_train = best_model.predict(X_train)\n",
    "#     y_pred_test = best_model.predict(X_test)\n",
    "#     mse_train = mean_squared_error(y_train, y_pred_train)\n",
    "#     mse_test = mean_squared_error(y_test, y_pred_test)\n",
    "    \n",
    "#     print(f\"MSE no Conjunto de Validação, Treinamento e Teste: {[mse, mse_train, mse_test]}\")\n",
    "#     total_samples = X.shape[0]\n",
    "#     mse_percentage = [(mse / total_samples) * 100, (mse_train / total_samples) * 100, (mse_test / total_samples) * 100]\n",
    "#     print(f\"MSE no Conjunto de Validação, Treinamento e Teste em Porcentagem: {mse_percentage}\")\n",
    "\n",
    "#    print(\"\\n\")"
   ]
  }
 ],
 "metadata": {
  "kernelspec": {
   "display_name": "env",
   "language": "python",
   "name": "python3"
  },
  "language_info": {
   "codemirror_mode": {
    "name": "ipython",
    "version": 3
   },
   "file_extension": ".py",
   "mimetype": "text/x-python",
   "name": "python",
   "nbconvert_exporter": "python",
   "pygments_lexer": "ipython3",
   "version": "3.11.1"
  },
  "orig_nbformat": 4
 },
 "nbformat": 4,
 "nbformat_minor": 2
}
