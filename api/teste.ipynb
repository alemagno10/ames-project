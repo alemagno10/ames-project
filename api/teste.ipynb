{
 "cells": [
  {
   "cell_type": "code",
   "execution_count": 14,
   "metadata": {},
   "outputs": [
    {
     "data": {
      "text/plain": [
       "(1, 69)"
      ]
     },
     "execution_count": 14,
     "metadata": {},
     "output_type": "execute_result"
    }
   ],
   "source": [
    "from utils import *\n",
    "import pandas as pd\n",
    "\n",
    "data = {\n",
    "    \"Bedroom.AbvGr\": 3.0,\n",
    "    \"Bldg.Type\": \"1Fam\",\n",
    "    \"Bsmt.Cond\": \"TA\",\n",
    "    \"Bsmt.Exposure\": \"No\",\n",
    "    \"Bsmt.Full.Bath\": 0.0,\n",
    "    \"Bsmt.Half.Bath\": 0.0,\n",
    "    \"Bsmt.Qual\": \"Gd\",\n",
    "    \"Bsmt.Unf.SF\": 763.0,\n",
    "    \"BsmtFin.SF.1\": 0.0,\n",
    "    \"BsmtFin.SF.2\": 0.0,\n",
    "    \"BsmtFin.Type.1\": \"Unf\",\n",
    "    \"BsmtFin.Type.2\": \"Unf\",\n",
    "    \"Central.Air\": \"Y\",\n",
    "    \"Condition\": \"Norm\",\n",
    "    \"Electrical\": 4.0,\n",
    "    \"Enclosed.Porch\": 0.0,\n",
    "    \"Exter.Cond\": 4.0,\n",
    "    \"Exter.Qual\": 3.0,\n",
    "    \"Exterior\": \"HdBoard\",\n",
    "    \"Fence\": 4.0,\n",
    "    \"Fireplaces\": 1.0,\n",
    "    \"Foundation\": \"PConc\",\n",
    "    \"Full.Bath\": 2.0,\n",
    "    \"Functional\": 7.0,\n",
    "    \"Garage.Age\": 17.0,\n",
    "    \"Garage.Area\": 440.0,\n",
    "    \"Garage.Cars\": 2.0,\n",
    "    \"Garage.Finish\": \"Fin\",\n",
    "    \"Garage.Type\": \"Attchd\",\n",
    "    \"Gr.Liv.Area\": 1655.0,\n",
    "    \"Half.Bath\": 1.0,\n",
    "    \"HasAlley\": False,\n",
    "    \"HasShed\": False,\n",
    "    \"Heating.QC\": 2.0,\n",
    "    \"House.Age\": 17.0,\n",
    "    \"House.Style\": \"2Story\",\n",
    "    \"Kitchen.AbvGr\": 1.0,\n",
    "    \"Kitchen.Qual\": 4.0,\n",
    "    \"Land.Contour\": \"Lvl\",\n",
    "    \"Land.Slope\": 0.0,\n",
    "    \"Lot.Area\": 10000.0,\n",
    "    \"Lot.Config\": \"Corner\",\n",
    "    \"Lot.Frontage\": 75.0,\n",
    "    \"Lot.Shape\": 0.0,\n",
    "    \"Low.Qual.Fin.SF\": 0.0,\n",
    "    \"MS.SubClass\": \"60\",\n",
    "    \"MS.Zoning\": \"RL\",\n",
    "    \"Mas.Vnr.Area\": 0.0,\n",
    "    \"Mas.Vnr.Type\": \"None\",\n",
    "    \"Misc.Val\": 0.0,\n",
    "    \"Mo.Sold\": 4.0,\n",
    "    \"Neighborhood\": \"Gilbert\",\n",
    "    \"Open.Porch.SF\": 84.0,\n",
    "    \"Overall.Cond\": 4.0,\n",
    "    \"Overall.Qual\": 5.0,\n",
    "    \"Paved.Drive\": 2.0,\n",
    "    \"Pool.Area\": 0.0,\n",
    "    \"Remod.Age\": 16.0,\n",
    "    \"Roof.Style\": \"Gable\",\n",
    "    \"Sale.Condition\": \"Normal\",\n",
    "    \"Sale.Type\": \"GroupedWD\",\n",
    "    \"Screen.Porch\": 0.0,\n",
    "    \"TotRms.AbvGrd\": 7.0,\n",
    "    \"Total.Bsmt.SF\": 763.0,\n",
    "    \"Wood.Deck.SF\": 157.0,\n",
    "    \"X1st.Flr.SF\": 763.0,\n",
    "    \"X2nd.Flr.SF\": 892.0,\n",
    "    \"X3Ssn.Porch\": 0.0,\n",
    "    \"Yr.Sold\": 2010.0\n",
    "}\n",
    "\n",
    "df = pd.DataFrame([data])\n",
    "df.shape"
   ]
  },
  {
   "cell_type": "code",
   "execution_count": 15,
   "metadata": {},
   "outputs": [
    {
     "data": {
      "text/html": [
       "<div>\n",
       "<style scoped>\n",
       "    .dataframe tbody tr th:only-of-type {\n",
       "        vertical-align: middle;\n",
       "    }\n",
       "\n",
       "    .dataframe tbody tr th {\n",
       "        vertical-align: top;\n",
       "    }\n",
       "\n",
       "    .dataframe thead th {\n",
       "        text-align: right;\n",
       "    }\n",
       "</style>\n",
       "<table border=\"1\" class=\"dataframe\">\n",
       "  <thead>\n",
       "    <tr style=\"text-align: right;\">\n",
       "      <th></th>\n",
       "      <th>Bedroom.AbvGr</th>\n",
       "      <th>Bldg.Type</th>\n",
       "      <th>Bsmt.Cond</th>\n",
       "      <th>Bsmt.Exposure</th>\n",
       "      <th>Bsmt.Full.Bath</th>\n",
       "      <th>Bsmt.Half.Bath</th>\n",
       "      <th>Bsmt.Qual</th>\n",
       "      <th>Bsmt.Unf.SF</th>\n",
       "      <th>BsmtFin.SF.1</th>\n",
       "      <th>BsmtFin.SF.2</th>\n",
       "      <th>...</th>\n",
       "      <th>Sale.Condition</th>\n",
       "      <th>Sale.Type</th>\n",
       "      <th>Screen.Porch</th>\n",
       "      <th>TotRms.AbvGrd</th>\n",
       "      <th>Total.Bsmt.SF</th>\n",
       "      <th>Wood.Deck.SF</th>\n",
       "      <th>X1st.Flr.SF</th>\n",
       "      <th>X2nd.Flr.SF</th>\n",
       "      <th>X3Ssn.Porch</th>\n",
       "      <th>Yr.Sold</th>\n",
       "    </tr>\n",
       "  </thead>\n",
       "  <tbody>\n",
       "    <tr>\n",
       "      <th>0</th>\n",
       "      <td>3.0</td>\n",
       "      <td>1Fam</td>\n",
       "      <td>TA</td>\n",
       "      <td>No</td>\n",
       "      <td>0.0</td>\n",
       "      <td>0.0</td>\n",
       "      <td>Gd</td>\n",
       "      <td>763.0</td>\n",
       "      <td>0.0</td>\n",
       "      <td>0.0</td>\n",
       "      <td>...</td>\n",
       "      <td>Normal</td>\n",
       "      <td>GroupedWD</td>\n",
       "      <td>0.0</td>\n",
       "      <td>7.0</td>\n",
       "      <td>763.0</td>\n",
       "      <td>157.0</td>\n",
       "      <td>763.0</td>\n",
       "      <td>892.0</td>\n",
       "      <td>0.0</td>\n",
       "      <td>2010.0</td>\n",
       "    </tr>\n",
       "  </tbody>\n",
       "</table>\n",
       "<p>1 rows × 69 columns</p>\n",
       "</div>"
      ],
      "text/plain": [
       "   Bedroom.AbvGr Bldg.Type Bsmt.Cond Bsmt.Exposure  Bsmt.Full.Bath  \\\n",
       "0            3.0      1Fam        TA            No             0.0   \n",
       "\n",
       "   Bsmt.Half.Bath Bsmt.Qual  Bsmt.Unf.SF  BsmtFin.SF.1  BsmtFin.SF.2  ...  \\\n",
       "0             0.0        Gd        763.0           0.0           0.0  ...   \n",
       "\n",
       "  Sale.Condition  Sale.Type Screen.Porch TotRms.AbvGrd  Total.Bsmt.SF  \\\n",
       "0         Normal  GroupedWD          0.0           7.0          763.0   \n",
       "\n",
       "   Wood.Deck.SF  X1st.Flr.SF  X2nd.Flr.SF X3Ssn.Porch  Yr.Sold  \n",
       "0         157.0        763.0        892.0         0.0   2010.0  \n",
       "\n",
       "[1 rows x 69 columns]"
      ]
     },
     "execution_count": 15,
     "metadata": {},
     "output_type": "execute_result"
    }
   ],
   "source": [
    "df"
   ]
  },
  {
   "cell_type": "code",
   "execution_count": 16,
   "metadata": {},
   "outputs": [
    {
     "name": "stdout",
     "output_type": "stream",
     "text": [
      "c:\\Users\\alema\\OneDrive\\Documentos\\insper\\4sem\\MachineLearing\\ames-project\\data\n"
     ]
    }
   ],
   "source": [
    "def get_data():\n",
    "    DATA_DIR = pathlib.Path.cwd().parent / 'data'\n",
    "    clean_data_path = DATA_DIR / 'processed' / 'ames_clean.pkl'\n",
    "    print(DATA_DIR)\n",
    "\n",
    "    data = pd.read_pickle(clean_data_path)\n",
    "    X = data.drop([\"SalePrice\"], axis=1)\n",
    "    y = data[\"SalePrice\"]\n",
    "\n",
    "    return X, feature_engineering(X), y\n",
    "\n",
    "raw, x, y = get_data()"
   ]
  },
  {
   "cell_type": "code",
   "execution_count": 18,
   "metadata": {},
   "outputs": [
    {
     "ename": "NotFittedError",
     "evalue": "This OneHotEncoder instance is not fitted yet. Call 'fit' with appropriate arguments before using this estimator.",
     "output_type": "error",
     "traceback": [
      "\u001b[1;31m---------------------------------------------------------------------------\u001b[0m",
      "\u001b[1;31mNotFittedError\u001b[0m                            Traceback (most recent call last)",
      "\u001b[1;32mc:\\Users\\alema\\OneDrive\\Documentos\\insper\\4sem\\MachineLearing\\ames-project\\api\\teste.ipynb Cell 4\u001b[0m line \u001b[0;36m1\n\u001b[1;32m----> <a href='vscode-notebook-cell:/c%3A/Users/alema/OneDrive/Documentos/insper/4sem/MachineLearing/ames-project/api/teste.ipynb#W2sZmlsZQ%3D%3D?line=0'>1</a>\u001b[0m feature_engineering(x)\n",
      "File \u001b[1;32mc:\\Users\\alema\\OneDrive\\Documentos\\insper\\4sem\\MachineLearing\\ames-project\\api\\utils.py:55\u001b[0m, in \u001b[0;36mfeature_engineering\u001b[1;34m(data)\u001b[0m\n\u001b[0;32m     52\u001b[0m preprocessor\u001b[39m.\u001b[39mfit(data)\n\u001b[0;32m     53\u001b[0m array_transformed \u001b[39m=\u001b[39m preprocessor\u001b[39m.\u001b[39mtransform(data)\n\u001b[1;32m---> 55\u001b[0m new_categorical_columns \u001b[39m=\u001b[39m preprocessor\u001b[39m.\u001b[39;49mnamed_transformers_[\u001b[39m'\u001b[39;49m\u001b[39monehot\u001b[39;49m\u001b[39m'\u001b[39;49m]\u001b[39m.\u001b[39;49mget_feature_names_out()\n\u001b[0;32m     56\u001b[0m new_columns \u001b[39m=\u001b[39m new_categorical_columns\u001b[39m.\u001b[39mtolist() \u001b[39m+\u001b[39m [col \u001b[39mfor\u001b[39;00m col \u001b[39min\u001b[39;00m data\u001b[39m.\u001b[39mcolumns \u001b[39mif\u001b[39;00m col \u001b[39mnot\u001b[39;00m \u001b[39min\u001b[39;00m categorical_columns]\n\u001b[0;32m     58\u001b[0m data \u001b[39m=\u001b[39m pd\u001b[39m.\u001b[39mDataFrame(array_transformed, columns\u001b[39m=\u001b[39mnew_columns)\n",
      "File \u001b[1;32mc:\\Users\\alema\\OneDrive\\Documentos\\insper\\4sem\\MachineLearing\\ames-project\\env\\Lib\\site-packages\\sklearn\\preprocessing\\_encoders.py:1210\u001b[0m, in \u001b[0;36mOneHotEncoder.get_feature_names_out\u001b[1;34m(self, input_features)\u001b[0m\n\u001b[0;32m   1190\u001b[0m \u001b[39mdef\u001b[39;00m \u001b[39mget_feature_names_out\u001b[39m(\u001b[39mself\u001b[39m, input_features\u001b[39m=\u001b[39m\u001b[39mNone\u001b[39;00m):\n\u001b[0;32m   1191\u001b[0m \u001b[39m    \u001b[39m\u001b[39m\"\"\"Get output feature names for transformation.\u001b[39;00m\n\u001b[0;32m   1192\u001b[0m \n\u001b[0;32m   1193\u001b[0m \u001b[39m    Parameters\u001b[39;00m\n\u001b[1;32m   (...)\u001b[0m\n\u001b[0;32m   1208\u001b[0m \u001b[39m        Transformed feature names.\u001b[39;00m\n\u001b[0;32m   1209\u001b[0m \u001b[39m    \"\"\"\u001b[39;00m\n\u001b[1;32m-> 1210\u001b[0m     check_is_fitted(\u001b[39mself\u001b[39;49m)\n\u001b[0;32m   1211\u001b[0m     input_features \u001b[39m=\u001b[39m _check_feature_names_in(\u001b[39mself\u001b[39m, input_features)\n\u001b[0;32m   1212\u001b[0m     cats \u001b[39m=\u001b[39m [\n\u001b[0;32m   1213\u001b[0m         \u001b[39mself\u001b[39m\u001b[39m.\u001b[39m_compute_transformed_categories(i)\n\u001b[0;32m   1214\u001b[0m         \u001b[39mfor\u001b[39;00m i, _ \u001b[39min\u001b[39;00m \u001b[39menumerate\u001b[39m(\u001b[39mself\u001b[39m\u001b[39m.\u001b[39mcategories_)\n\u001b[0;32m   1215\u001b[0m     ]\n",
      "File \u001b[1;32mc:\\Users\\alema\\OneDrive\\Documentos\\insper\\4sem\\MachineLearing\\ames-project\\env\\Lib\\site-packages\\sklearn\\utils\\validation.py:1461\u001b[0m, in \u001b[0;36mcheck_is_fitted\u001b[1;34m(estimator, attributes, msg, all_or_any)\u001b[0m\n\u001b[0;32m   1458\u001b[0m     \u001b[39mraise\u001b[39;00m \u001b[39mTypeError\u001b[39;00m(\u001b[39m\"\u001b[39m\u001b[39m%s\u001b[39;00m\u001b[39m is not an estimator instance.\u001b[39m\u001b[39m\"\u001b[39m \u001b[39m%\u001b[39m (estimator))\n\u001b[0;32m   1460\u001b[0m \u001b[39mif\u001b[39;00m \u001b[39mnot\u001b[39;00m _is_fitted(estimator, attributes, all_or_any):\n\u001b[1;32m-> 1461\u001b[0m     \u001b[39mraise\u001b[39;00m NotFittedError(msg \u001b[39m%\u001b[39m {\u001b[39m\"\u001b[39m\u001b[39mname\u001b[39m\u001b[39m\"\u001b[39m: \u001b[39mtype\u001b[39m(estimator)\u001b[39m.\u001b[39m\u001b[39m__name__\u001b[39m})\n",
      "\u001b[1;31mNotFittedError\u001b[0m: This OneHotEncoder instance is not fitted yet. Call 'fit' with appropriate arguments before using this estimator."
     ]
    }
   ],
   "source": [
    "feature_engineering(x)"
   ]
  }
 ],
 "metadata": {
  "kernelspec": {
   "display_name": "env",
   "language": "python",
   "name": "python3"
  },
  "language_info": {
   "codemirror_mode": {
    "name": "ipython",
    "version": 3
   },
   "file_extension": ".py",
   "mimetype": "text/x-python",
   "name": "python",
   "nbconvert_exporter": "python",
   "pygments_lexer": "ipython3",
   "version": "3.11.1"
  }
 },
 "nbformat": 4,
 "nbformat_minor": 2
}
